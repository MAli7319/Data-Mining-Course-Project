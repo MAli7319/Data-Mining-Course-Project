{
 "cells": [
  {
   "cell_type": "markdown",
   "id": "ee45577d",
   "metadata": {},
   "source": [
    "# Course Project"
   ]
  },
  {
   "cell_type": "markdown",
   "id": "5b9e9a9c",
   "metadata": {},
   "source": [
    "## Name: Muhammet Ali\n",
    "## Surname: ŞENTÜRK\n",
    "## ID: 21993073"
   ]
  },
  {
   "cell_type": "markdown",
   "id": "8eac15b7",
   "metadata": {},
   "source": [
    "### Project Name : Market basket analysis (Apriori algorithm) for mining association rule."
   ]
  },
  {
   "cell_type": "markdown",
   "id": "84ac5942",
   "metadata": {},
   "source": [
    "### Task 1 - Import and Examine the Data "
   ]
  },
  {
   "cell_type": "markdown",
   "id": "570a9c7e",
   "metadata": {},
   "source": [
    "Importing necessary libraries"
   ]
  },
  {
   "cell_type": "code",
   "execution_count": 1,
   "id": "b8dffe4b",
   "metadata": {},
   "outputs": [],
   "source": [
    "import numpy as np\n",
    "import pandas as pd\n",
    "import matplotlib.pyplot as plt\n",
    "import seaborn as sns\n",
    "import warnings\n",
    "warnings.filterwarnings(\"ignore\")"
   ]
  },
  {
   "cell_type": "markdown",
   "id": "b8aa9ecd",
   "metadata": {},
   "source": [
    "Reading the data and first look"
   ]
  },
  {
   "cell_type": "code",
   "execution_count": 2,
   "id": "0528955c",
   "metadata": {},
   "outputs": [
    {
     "data": {
      "text/html": [
       "<div>\n",
       "<style scoped>\n",
       "    .dataframe tbody tr th:only-of-type {\n",
       "        vertical-align: middle;\n",
       "    }\n",
       "\n",
       "    .dataframe tbody tr th {\n",
       "        vertical-align: top;\n",
       "    }\n",
       "\n",
       "    .dataframe thead th {\n",
       "        text-align: right;\n",
       "    }\n",
       "</style>\n",
       "<table border=\"1\" class=\"dataframe\">\n",
       "  <thead>\n",
       "    <tr style=\"text-align: right;\">\n",
       "      <th></th>\n",
       "      <th>TransactionNo</th>\n",
       "      <th>Items</th>\n",
       "      <th>DateTime</th>\n",
       "      <th>Daypart</th>\n",
       "      <th>DayType</th>\n",
       "    </tr>\n",
       "  </thead>\n",
       "  <tbody>\n",
       "    <tr>\n",
       "      <th>0</th>\n",
       "      <td>1</td>\n",
       "      <td>Bread</td>\n",
       "      <td>2016-10-30 09:58:11</td>\n",
       "      <td>Morning</td>\n",
       "      <td>Weekend</td>\n",
       "    </tr>\n",
       "    <tr>\n",
       "      <th>1</th>\n",
       "      <td>2</td>\n",
       "      <td>Scandinavian</td>\n",
       "      <td>2016-10-30 10:05:34</td>\n",
       "      <td>Morning</td>\n",
       "      <td>Weekend</td>\n",
       "    </tr>\n",
       "    <tr>\n",
       "      <th>2</th>\n",
       "      <td>2</td>\n",
       "      <td>Scandinavian</td>\n",
       "      <td>2016-10-30 10:05:34</td>\n",
       "      <td>Morning</td>\n",
       "      <td>Weekend</td>\n",
       "    </tr>\n",
       "    <tr>\n",
       "      <th>3</th>\n",
       "      <td>3</td>\n",
       "      <td>Hot chocolate</td>\n",
       "      <td>2016-10-30 10:07:57</td>\n",
       "      <td>Morning</td>\n",
       "      <td>Weekend</td>\n",
       "    </tr>\n",
       "    <tr>\n",
       "      <th>4</th>\n",
       "      <td>3</td>\n",
       "      <td>Jam</td>\n",
       "      <td>2016-10-30 10:07:57</td>\n",
       "      <td>Morning</td>\n",
       "      <td>Weekend</td>\n",
       "    </tr>\n",
       "  </tbody>\n",
       "</table>\n",
       "</div>"
      ],
      "text/plain": [
       "   TransactionNo          Items             DateTime  Daypart  DayType\n",
       "0              1          Bread  2016-10-30 09:58:11  Morning  Weekend\n",
       "1              2   Scandinavian  2016-10-30 10:05:34  Morning  Weekend\n",
       "2              2   Scandinavian  2016-10-30 10:05:34  Morning  Weekend\n",
       "3              3  Hot chocolate  2016-10-30 10:07:57  Morning  Weekend\n",
       "4              3            Jam  2016-10-30 10:07:57  Morning  Weekend"
      ]
     },
     "execution_count": 2,
     "metadata": {},
     "output_type": "execute_result"
    }
   ],
   "source": [
    "df = pd.read_csv(\"Bakery.csv\")\n",
    "df.head()"
   ]
  },
  {
   "cell_type": "markdown",
   "id": "05bff431",
   "metadata": {},
   "source": [
    "* The dataset belongs to \"The Bread Basket\" a bakery located in Edinburgh. \n",
    "* The dataset provide the transaction details of customers who ordered different items from this bakery online during the time period from 30/10/2016 to 12/03/2017. "
   ]
  },
  {
   "cell_type": "markdown",
   "id": "eae9cec4",
   "metadata": {},
   "source": [
    "Checking the information of the data"
   ]
  },
  {
   "cell_type": "code",
   "execution_count": 3,
   "id": "9ace5500",
   "metadata": {
    "scrolled": true
   },
   "outputs": [
    {
     "name": "stdout",
     "output_type": "stream",
     "text": [
      "<class 'pandas.core.frame.DataFrame'>\n",
      "RangeIndex: 20507 entries, 0 to 20506\n",
      "Data columns (total 5 columns):\n",
      " #   Column         Non-Null Count  Dtype \n",
      "---  ------         --------------  ----- \n",
      " 0   TransactionNo  20507 non-null  int64 \n",
      " 1   Items          20507 non-null  object\n",
      " 2   DateTime       20507 non-null  object\n",
      " 3   Daypart        20507 non-null  object\n",
      " 4   DayType        20507 non-null  object\n",
      "dtypes: int64(1), object(4)\n",
      "memory usage: 801.2+ KB\n"
     ]
    }
   ],
   "source": [
    "df.info()"
   ]
  },
  {
   "cell_type": "markdown",
   "id": "482ff1c5",
   "metadata": {},
   "source": [
    "* We have one variable as integer which is transaction id\n",
    "* Other ones are strings"
   ]
  },
  {
   "cell_type": "markdown",
   "id": "378f7ef1",
   "metadata": {},
   "source": [
    "How many entries does our data have?"
   ]
  },
  {
   "cell_type": "code",
   "execution_count": 4,
   "id": "f92a28f7",
   "metadata": {},
   "outputs": [
    {
     "data": {
      "text/plain": [
       "20507"
      ]
     },
     "execution_count": 4,
     "metadata": {},
     "output_type": "execute_result"
    }
   ],
   "source": [
    "len(df)"
   ]
  },
  {
   "cell_type": "markdown",
   "id": "937958da",
   "metadata": {},
   "source": [
    "* Length of the data and number of non-null values are equal\n",
    "* It means, there is no null values"
   ]
  },
  {
   "cell_type": "markdown",
   "id": "2e4bf247",
   "metadata": {},
   "source": [
    "Copying the original data"
   ]
  },
  {
   "cell_type": "code",
   "execution_count": 5,
   "id": "ff45de75",
   "metadata": {},
   "outputs": [],
   "source": [
    "df2 = df.copy()"
   ]
  },
  {
   "cell_type": "markdown",
   "id": "e2c1fca4",
   "metadata": {},
   "source": [
    "* df will be used for exploratory analysis\n",
    "* df2 will be used for detecting the frequent patterns"
   ]
  },
  {
   "cell_type": "markdown",
   "id": "d3a65359",
   "metadata": {},
   "source": [
    "### Task 2 - Preprocess the Data (For Visualization)"
   ]
  },
  {
   "cell_type": "markdown",
   "id": "2b8f6fe1",
   "metadata": {},
   "source": [
    "Splitting the date-time to day,month and year"
   ]
  },
  {
   "cell_type": "code",
   "execution_count": 6,
   "id": "04450ccc",
   "metadata": {},
   "outputs": [],
   "source": [
    "df[\"DateTime\"] = pd.to_datetime(df[\"DateTime\"])\n",
    "\n",
    "df[\"day\"] = df[\"DateTime\"].apply(lambda x : x.day)\n",
    "df[\"month\"] = df[\"DateTime\"].apply(lambda x : x.month)\n",
    "df[\"year\"] = df[\"DateTime\"].apply(lambda x : x.year)\n",
    "\n",
    "days = [\"Monday\", \"Tuesday\", \"Wednesday\", \"Thursday\", \"Friday\", \"Saturday\", \"Sunday\"]\n",
    "df[\"weekday\"] = df[\"DateTime\"].apply(lambda x : days[x.weekday()])"
   ]
  },
  {
   "cell_type": "markdown",
   "id": "d110717c",
   "metadata": {},
   "source": [
    "* In order to visualize better, we split the date object into the 3 parts \n",
    "* We will examine day, month and year features seperately\n",
    "* Also, we added another feature which indicates day of the week"
   ]
  },
  {
   "cell_type": "markdown",
   "id": "33d2902f",
   "metadata": {},
   "source": [
    "Dropping the unnecessary feature and look to the new data"
   ]
  },
  {
   "cell_type": "code",
   "execution_count": 7,
   "id": "f610d124",
   "metadata": {},
   "outputs": [
    {
     "data": {
      "text/html": [
       "<div>\n",
       "<style scoped>\n",
       "    .dataframe tbody tr th:only-of-type {\n",
       "        vertical-align: middle;\n",
       "    }\n",
       "\n",
       "    .dataframe tbody tr th {\n",
       "        vertical-align: top;\n",
       "    }\n",
       "\n",
       "    .dataframe thead th {\n",
       "        text-align: right;\n",
       "    }\n",
       "</style>\n",
       "<table border=\"1\" class=\"dataframe\">\n",
       "  <thead>\n",
       "    <tr style=\"text-align: right;\">\n",
       "      <th></th>\n",
       "      <th>TransactionNo</th>\n",
       "      <th>Items</th>\n",
       "      <th>Daypart</th>\n",
       "      <th>DayType</th>\n",
       "      <th>day</th>\n",
       "      <th>month</th>\n",
       "      <th>year</th>\n",
       "      <th>weekday</th>\n",
       "    </tr>\n",
       "  </thead>\n",
       "  <tbody>\n",
       "    <tr>\n",
       "      <th>0</th>\n",
       "      <td>1</td>\n",
       "      <td>Bread</td>\n",
       "      <td>Morning</td>\n",
       "      <td>Weekend</td>\n",
       "      <td>30</td>\n",
       "      <td>10</td>\n",
       "      <td>2016</td>\n",
       "      <td>Sunday</td>\n",
       "    </tr>\n",
       "    <tr>\n",
       "      <th>1</th>\n",
       "      <td>2</td>\n",
       "      <td>Scandinavian</td>\n",
       "      <td>Morning</td>\n",
       "      <td>Weekend</td>\n",
       "      <td>30</td>\n",
       "      <td>10</td>\n",
       "      <td>2016</td>\n",
       "      <td>Sunday</td>\n",
       "    </tr>\n",
       "    <tr>\n",
       "      <th>2</th>\n",
       "      <td>2</td>\n",
       "      <td>Scandinavian</td>\n",
       "      <td>Morning</td>\n",
       "      <td>Weekend</td>\n",
       "      <td>30</td>\n",
       "      <td>10</td>\n",
       "      <td>2016</td>\n",
       "      <td>Sunday</td>\n",
       "    </tr>\n",
       "    <tr>\n",
       "      <th>3</th>\n",
       "      <td>3</td>\n",
       "      <td>Hot chocolate</td>\n",
       "      <td>Morning</td>\n",
       "      <td>Weekend</td>\n",
       "      <td>30</td>\n",
       "      <td>10</td>\n",
       "      <td>2016</td>\n",
       "      <td>Sunday</td>\n",
       "    </tr>\n",
       "    <tr>\n",
       "      <th>4</th>\n",
       "      <td>3</td>\n",
       "      <td>Jam</td>\n",
       "      <td>Morning</td>\n",
       "      <td>Weekend</td>\n",
       "      <td>30</td>\n",
       "      <td>10</td>\n",
       "      <td>2016</td>\n",
       "      <td>Sunday</td>\n",
       "    </tr>\n",
       "  </tbody>\n",
       "</table>\n",
       "</div>"
      ],
      "text/plain": [
       "   TransactionNo          Items  Daypart  DayType  day  month  year weekday\n",
       "0              1          Bread  Morning  Weekend   30     10  2016  Sunday\n",
       "1              2   Scandinavian  Morning  Weekend   30     10  2016  Sunday\n",
       "2              2   Scandinavian  Morning  Weekend   30     10  2016  Sunday\n",
       "3              3  Hot chocolate  Morning  Weekend   30     10  2016  Sunday\n",
       "4              3            Jam  Morning  Weekend   30     10  2016  Sunday"
      ]
     },
     "execution_count": 7,
     "metadata": {},
     "output_type": "execute_result"
    }
   ],
   "source": [
    "df = df.drop(\"DateTime\", axis=1)\n",
    "df.head()"
   ]
  },
  {
   "cell_type": "markdown",
   "id": "789cac4d",
   "metadata": {},
   "source": [
    "### Task 3 - Exploratory Data Analysis"
   ]
  },
  {
   "cell_type": "markdown",
   "id": "4a9d9527",
   "metadata": {},
   "source": [
    "How much transactions do we have?"
   ]
  },
  {
   "cell_type": "code",
   "execution_count": 8,
   "id": "5bfda8db",
   "metadata": {},
   "outputs": [
    {
     "data": {
      "text/plain": [
       "9465"
      ]
     },
     "execution_count": 8,
     "metadata": {},
     "output_type": "execute_result"
    }
   ],
   "source": [
    "len(df[\"TransactionNo\"].value_counts())"
   ]
  },
  {
   "cell_type": "markdown",
   "id": "e71b48ef",
   "metadata": {},
   "source": [
    "Let's start with visualizing the number of items"
   ]
  },
  {
   "cell_type": "code",
   "execution_count": 9,
   "id": "678ec4b7",
   "metadata": {},
   "outputs": [],
   "source": [
    "val_counts = dict(df[\"Items\"].value_counts()[:10])"
   ]
  },
  {
   "cell_type": "markdown",
   "id": "e57f804a",
   "metadata": {},
   "source": [
    "* We will plot a bar plot to visualize the most 10 popular items"
   ]
  },
  {
   "cell_type": "code",
   "execution_count": 10,
   "id": "8edf9297",
   "metadata": {},
   "outputs": [
    {
     "data": {
      "text/plain": [
       "<AxesSubplot:>"
      ]
     },
     "execution_count": 10,
     "metadata": {},
     "output_type": "execute_result"
    },
    {
     "data": {
      "image/png": "[encoded data removed]",
      "text/plain": [
       "<Figure size 864x432 with 1 Axes>"
      ]
     },
     "metadata": {
      "needs_background": "light"
     },
     "output_type": "display_data"
    }
   ],
   "source": [
    "plt.figure(figsize=(12,6))\n",
    "sns.barplot(x=list(val_counts.keys()), y=list(val_counts.values()), palette=\"Greens_r\")"
   ]
  },
  {
   "cell_type": "markdown",
   "id": "0ea34e10",
   "metadata": {},
   "source": [
    "* Most of the transactions involves Coffee\n",
    "* 2nd most popular item is bread\n",
    "* Tea is the 3rd most popular item"
   ]
  },
  {
   "cell_type": "markdown",
   "id": "a2bb35da",
   "metadata": {},
   "source": [
    "Visualizing the daypart feature "
   ]
  },
  {
   "cell_type": "code",
   "execution_count": 11,
   "id": "791f8d74",
   "metadata": {},
   "outputs": [],
   "source": [
    "daypart = dict(df.groupby('Daypart')['Items'].count().sort_values(ascending=False))"
   ]
  },
  {
   "cell_type": "markdown",
   "id": "87af447a",
   "metadata": {},
   "source": [
    "* Counted each daypart value and sorted in descending order"
   ]
  },
  {
   "cell_type": "code",
   "execution_count": 12,
   "id": "016960e7",
   "metadata": {
    "scrolled": false
   },
   "outputs": [
    {
     "data": {
      "image/png": "[encoded data removed]",
      "text/plain": [
       "<Figure size 720x432 with 1 Axes>"
      ]
     },
     "metadata": {},
     "output_type": "display_data"
    }
   ],
   "source": [
    "plt.figure(figsize=(10,6))\n",
    "plt.pie(daypart.values(), labels=daypart.keys(), explode=[0, 0.01, 0.2, 0.5], colors = sns.color_palette(\"Set2\")[1:], autopct='%.2f%%')\n",
    "plt.tight_layout()\n",
    "plt.legend()\n",
    "plt.show()"
   ]
  },
  {
   "cell_type": "markdown",
   "id": "553880de",
   "metadata": {},
   "source": [
    "* Most of the transactions are made in afternoon\n",
    "* 41% of the transactions are made in morning\n",
    "* Transactions in evening and night are so rare"
   ]
  },
  {
   "cell_type": "markdown",
   "id": "cd10ac98",
   "metadata": {},
   "source": [
    "Visualizing the daytype feature"
   ]
  },
  {
   "cell_type": "code",
   "execution_count": 13,
   "id": "2d433903",
   "metadata": {},
   "outputs": [],
   "source": [
    "daytype = dict(df.groupby(\"DayType\")[\"Items\"].count().sort_values(ascending=False))"
   ]
  },
  {
   "cell_type": "markdown",
   "id": "f00ffec7",
   "metadata": {},
   "source": [
    "* Counted each daypart value and sorted in descending order"
   ]
  },
  {
   "cell_type": "code",
   "execution_count": 14,
   "id": "460c3f54",
   "metadata": {},
   "outputs": [
    {
     "data": {
      "image/png": "[encoded data removed]",
      "text/plain": [
       "<Figure size 720x432 with 1 Axes>"
      ]
     },
     "metadata": {},
     "output_type": "display_data"
    }
   ],
   "source": [
    "plt.figure(figsize=(10,6))\n",
    "plt.pie(daytype.values(), labels=daytype.keys(), explode = [0, 0.01], colors = sns.color_palette(\"Set2\")[5:7], autopct='%.2f%%')\n",
    "plt.tight_layout()\n",
    "plt.legend()\n",
    "plt.show()"
   ]
  },
  {
   "cell_type": "markdown",
   "id": "60a1b66f",
   "metadata": {},
   "source": [
    "* Most of the transactions are made in weekdays\n",
    "* Percentage of transactions in weekend is 37.5%"
   ]
  },
  {
   "cell_type": "markdown",
   "id": "ff12ed46",
   "metadata": {},
   "source": [
    "Visualizing the weeekday feature"
   ]
  },
  {
   "cell_type": "code",
   "execution_count": 15,
   "id": "999e0181",
   "metadata": {},
   "outputs": [],
   "source": [
    "weekday = dict(df.groupby(\"weekday\")[\"Items\"].count().sort_values(ascending=False))"
   ]
  },
  {
   "cell_type": "markdown",
   "id": "87754dcb",
   "metadata": {},
   "source": [
    "* Counted each weekday value and sorted in descending order"
   ]
  },
  {
   "cell_type": "code",
   "execution_count": 16,
   "id": "6baa2144",
   "metadata": {},
   "outputs": [
    {
     "data": {
      "text/plain": [
       "<AxesSubplot:>"
      ]
     },
     "execution_count": 16,
     "metadata": {},
     "output_type": "execute_result"
    },
    {
     "data": {
      "image/png": "[encoded data removed]",
      "text/plain": [
       "<Figure size 720x432 with 1 Axes>"
      ]
     },
     "metadata": {
      "needs_background": "light"
     },
     "output_type": "display_data"
    }
   ],
   "source": [
    "plt.figure(figsize=(10,6))\n",
    "sns.barplot(y=list(weekday.keys()), x=list(weekday.values()), palette=\"Reds_r\", orient = \"h\")"
   ]
  },
  {
   "cell_type": "markdown",
   "id": "53179014",
   "metadata": {},
   "source": [
    "* Most active days are saturday, friday and sunday\n",
    "* These days are either weekend or last day of the weekday such as friday\n",
    "* Least active days are wednesday, thursday and tuesday\n",
    "* These days are mid-days of the weekdays"
   ]
  },
  {
   "cell_type": "markdown",
   "id": "458171ed",
   "metadata": {},
   "source": [
    "Visualizing the year feature"
   ]
  },
  {
   "cell_type": "code",
   "execution_count": 17,
   "id": "a6383587",
   "metadata": {},
   "outputs": [],
   "source": [
    "year = dict(df.groupby(\"year\")[\"Items\"].count().sort_values(ascending=False))"
   ]
  },
  {
   "cell_type": "markdown",
   "id": "7b917a88",
   "metadata": {},
   "source": [
    "* Counted each year value and sorted in descending order"
   ]
  },
  {
   "cell_type": "code",
   "execution_count": 18,
   "id": "58fd98ae",
   "metadata": {},
   "outputs": [
    {
     "data": {
      "image/png": "[encoded data removed]",
      "text/plain": [
       "<Figure size 720x432 with 1 Axes>"
      ]
     },
     "metadata": {},
     "output_type": "display_data"
    }
   ],
   "source": [
    "plt.figure(figsize=(10,6))\n",
    "plt.pie(year.values(), labels=year.keys(), explode = [0, 0.01], colors = sns.color_palette(\"hls\",8)[5:3:-1], autopct='%.2f%%')\n",
    "plt.tight_layout()\n",
    "plt.legend()\n",
    "plt.show()"
   ]
  },
  {
   "cell_type": "markdown",
   "id": "06e75b0c",
   "metadata": {},
   "source": [
    "* First quarter of 2017 is more active than the last quarter of 2016 "
   ]
  },
  {
   "cell_type": "markdown",
   "id": "9149fa59",
   "metadata": {},
   "source": [
    "Visualizing the month feature"
   ]
  },
  {
   "cell_type": "code",
   "execution_count": 19,
   "id": "8efefcc9",
   "metadata": {},
   "outputs": [],
   "source": [
    "month = dict(df.groupby(\"month\")[\"Items\"].count().sort_values(ascending=False))"
   ]
  },
  {
   "cell_type": "markdown",
   "id": "d542aa17",
   "metadata": {},
   "source": [
    " Counted each month value and sorted in descending order"
   ]
  },
  {
   "cell_type": "code",
   "execution_count": 20,
   "id": "80585f1a",
   "metadata": {},
   "outputs": [
    {
     "data": {
      "text/plain": [
       "<AxesSubplot:>"
      ]
     },
     "execution_count": 20,
     "metadata": {},
     "output_type": "execute_result"
    },
    {
     "data": {
      "image/png": "[encoded data removed]",
      "text/plain": [
       "<Figure size 1008x432 with 1 Axes>"
      ]
     },
     "metadata": {
      "needs_background": "light"
     },
     "output_type": "display_data"
    }
   ],
   "source": [
    "plt.figure(figsize=(14,6))\n",
    "sns.barplot(x=[\"March\", \"November\", \"January\", \"February\", \"December\", \"April\", \"October\", \"May\", \"July\", \"June\", \"August\", \"September\"], \n",
    "            y=list(month.values()), palette=\"Purples_r\")"
   ]
  },
  {
   "cell_type": "markdown",
   "id": "4190a182",
   "metadata": {},
   "source": [
    "* March, november and january are the most active months\n",
    "* These months can be considered in winter session\n",
    "* June, august and september are the least active months\n",
    "* These months can be considered in summer session"
   ]
  },
  {
   "cell_type": "markdown",
   "id": "c20b4ddf",
   "metadata": {},
   "source": [
    "### Task 2 - Preprocess the Data (For Frequent Pattern Mining)"
   ]
  },
  {
   "cell_type": "markdown",
   "id": "fa2e1145",
   "metadata": {},
   "source": [
    "Detecting the least frequent items"
   ]
  },
  {
   "cell_type": "code",
   "execution_count": 21,
   "id": "cad76e2a",
   "metadata": {},
   "outputs": [
    {
     "data": {
      "text/plain": [
       "Hack the stack    2\n",
       "Bowl Nic Pitt     2\n",
       "The BART          1\n",
       "Adjustment        1\n",
       "Bacon             1\n",
       "Olum & polenta    1\n",
       "Chicken sand      1\n",
       "Raw bars          1\n",
       "Gift voucher      1\n",
       "Polenta           1\n",
       "Name: Items, dtype: int64"
      ]
     },
     "execution_count": 21,
     "metadata": {},
     "output_type": "execute_result"
    }
   ],
   "source": [
    "val_counts = df[\"Items\"].value_counts()\n",
    "val_counts.tail(10)"
   ]
  },
  {
   "cell_type": "markdown",
   "id": "9c305bca",
   "metadata": {},
   "source": [
    "* An item appeared in transactions only once has not any chance to be in the most frequent pattern\n",
    "* So they had to be removed, they are saved to a list"
   ]
  },
  {
   "cell_type": "code",
   "execution_count": 22,
   "id": "a15575b6",
   "metadata": {},
   "outputs": [],
   "source": [
    "excluded = list(val_counts[val_counts.values < 2].index)"
   ]
  },
  {
   "cell_type": "markdown",
   "id": "b503d9a1",
   "metadata": {},
   "source": [
    "Obtaining the transactions"
   ]
  },
  {
   "cell_type": "code",
   "execution_count": 23,
   "id": "d55e5e2c",
   "metadata": {},
   "outputs": [],
   "source": [
    "transactions=[]\n",
    "for action in df2[\"TransactionNo\"].unique():\n",
    "    transaction=list(set(df2[df2[\"TransactionNo\"]==action]['Items']))\n",
    "    if not any(x in transaction for x in excluded):\n",
    "        if len(transaction) != 1:\n",
    "            transactions.append(transaction)"
   ]
  },
  {
   "cell_type": "markdown",
   "id": "ecd67992",
   "metadata": {},
   "source": [
    "* We have 20000 entries but most of them are indicates only one transaction but shown in multiple rows\n",
    "* So they had to be merged in one transaction\n",
    "* The items bought only once did not counted\n",
    "* Also, the transactions contains only one item did not counted since it has no chance to be a most frequent pattern"
   ]
  },
  {
   "cell_type": "markdown",
   "id": "bf6ebdc3",
   "metadata": {},
   "source": [
    "before filtering, len = 9465"
   ]
  },
  {
   "cell_type": "code",
   "execution_count": 24,
   "id": "e905ac91",
   "metadata": {},
   "outputs": [
    {
     "data": {
      "text/plain": [
       "5510"
      ]
     },
     "execution_count": 24,
     "metadata": {},
     "output_type": "execute_result"
    }
   ],
   "source": [
    "len(transactions)"
   ]
  },
  {
   "cell_type": "markdown",
   "id": "086ca54b",
   "metadata": {},
   "source": [
    "after filtering, len = 5510"
   ]
  },
  {
   "cell_type": "markdown",
   "id": "2a15f129",
   "metadata": {},
   "source": [
    "Looking at the first 20 transactions"
   ]
  },
  {
   "cell_type": "code",
   "execution_count": 25,
   "id": "e8fa3c0a",
   "metadata": {},
   "outputs": [
    {
     "data": {
      "text/plain": [
       "[['Cookies', 'Hot chocolate', 'Jam'],\n",
       " ['Pastry', 'Bread', 'Coffee'],\n",
       " ['Muffin', 'Pastry', 'Medialuna'],\n",
       " ['Tea', 'Pastry', 'Medialuna', 'Coffee'],\n",
       " ['Pastry', 'Bread'],\n",
       " ['Muffin', 'Bread'],\n",
       " ['Scandinavian', 'Medialuna'],\n",
       " ['Medialuna', 'Bread'],\n",
       " ['Tea', 'Tartine', 'Jam', 'Coffee', 'Pastry'],\n",
       " ['Bread', 'Basket', 'Coffee'],\n",
       " ['Pastry', 'Medialuna', 'Bread'],\n",
       " ['Scandinavian', 'Mineral water'],\n",
       " ['Medialuna', 'Bread', 'Coffee'],\n",
       " ['Bread', 'Farm House'],\n",
       " ['Medialuna', 'Bread'],\n",
       " ['Medialuna', 'Bread', 'Coffee'],\n",
       " ['Scandinavian', 'Muffin'],\n",
       " ['Bread', 'Coffee'],\n",
       " ['Bread', 'Jam'],\n",
       " ['Scandinavian', 'Muffin']]"
      ]
     },
     "execution_count": 25,
     "metadata": {},
     "output_type": "execute_result"
    }
   ],
   "source": [
    "transactions[0:20]"
   ]
  },
  {
   "cell_type": "markdown",
   "id": "65ee1d19",
   "metadata": {},
   "source": [
    "### Task 4 - Implementing the Apriori Algorithm"
   ]
  },
  {
   "cell_type": "markdown",
   "id": "9814b989",
   "metadata": {},
   "source": [
    "Necessary import"
   ]
  },
  {
   "cell_type": "code",
   "execution_count": 26,
   "id": "7fe10b72",
   "metadata": {},
   "outputs": [],
   "source": [
    "from itertools import combinations"
   ]
  },
  {
   "cell_type": "markdown",
   "id": "b70d325e",
   "metadata": {},
   "source": [
    "* \"combinations\" function will help to obtain how many combinations of items we can get"
   ]
  },
  {
   "cell_type": "markdown",
   "id": "9de3bf94",
   "metadata": {},
   "source": [
    "Helper functions of apriori algorithm"
   ]
  },
  {
   "cell_type": "code",
   "execution_count": 27,
   "id": "fff27da1",
   "metadata": {},
   "outputs": [],
   "source": [
    "def item_counter(data):\n",
    "    counts = {}\n",
    "    for action in data:\n",
    "        for item in action:\n",
    "            counts[item]=0\n",
    "    for action in data:\n",
    "        for item in action:\n",
    "            counts[item] += 1\n",
    "        \n",
    "    return counts"
   ]
  },
  {
   "cell_type": "markdown",
   "id": "ce9db97e",
   "metadata": {},
   "source": [
    "* **item_counter** function takes one argument as *transaction list*\n",
    "* For each item in this list, it counts each element separately\n",
    "* Returns the dictionary of item counts named *counts*"
   ]
  },
  {
   "cell_type": "code",
   "execution_count": 28,
   "id": "69c45eeb",
   "metadata": {},
   "outputs": [],
   "source": [
    "def remove_non_sup(dic, min_sup):\n",
    "    non_freq = []\n",
    "    for k,v in dic.items():\n",
    "        if v < min_sup:\n",
    "            non_freq.append(k)\n",
    "    [dic.pop(key) for key in non_freq]\n",
    "    return dic"
   ]
  },
  {
   "cell_type": "markdown",
   "id": "c15576f6",
   "metadata": {},
   "source": [
    "* **remove_non_sup** function takes two arguments as *item counts dictionary* and *minimum support value*\n",
    "* For each item count in dictionary, it filters the items which have value less than minimum support\n",
    "* support (count) of X, sup{X}: Frequency or the number of occurrences of an itemset X"
   ]
  },
  {
   "cell_type": "code",
   "execution_count": 29,
   "id": "70e1240b",
   "metadata": {},
   "outputs": [],
   "source": [
    "def check_valid_pairs(data, pairs):\n",
    "    valid_pairs=[]\n",
    "    for action in data:\n",
    "        for pair in pairs:\n",
    "            if all(x in action for x in pair):\n",
    "                valid_pairs.append(pair)\n",
    "    return list(set(valid_pairs))"
   ]
  },
  {
   "cell_type": "markdown",
   "id": "e543ffbb",
   "metadata": {},
   "source": [
    "* **check_valid_pairs** function takes two arguments as *transaction list* and *all possible pair combinations*\n",
    "* As the name suggests, it checks these combinations are valid or not\n",
    "* By saying valid,  we mean that if the possible pair is in transactions or not\n",
    "* Possible valid pairs must be in *transaction list*\n",
    "* This function basically does pruning to increase the computational efficiency"
   ]
  },
  {
   "cell_type": "code",
   "execution_count": 30,
   "id": "c90a98ad",
   "metadata": {},
   "outputs": [],
   "source": [
    "def pair_counter(data, val_pairs):\n",
    "    counts = {}\n",
    "    for action in data:\n",
    "        for pair in val_pairs:\n",
    "            counts[pair]=0\n",
    "    for action in data:\n",
    "        for pair in val_pairs:\n",
    "            if all(x in action for x in pair):\n",
    "                counts[pair] += 1\n",
    "    return counts"
   ]
  },
  {
   "cell_type": "markdown",
   "id": "059f8347",
   "metadata": {},
   "source": [
    "* **pair_counter** function takes two arguments as *transaction list* and *valid pairs*\n",
    "* It searchs for validated pairs in *transaction list*, counts them and saves the values to the dict named *counts*\n",
    "* Simply pairwise version of **item_counter**"
   ]
  },
  {
   "cell_type": "code",
   "execution_count": 31,
   "id": "a41e0dad",
   "metadata": {},
   "outputs": [],
   "source": [
    "def unique_items(dic, chk):\n",
    "    uniques = []\n",
    "    for i in range(len(list(dic.keys()))):\n",
    "        for j in range(chk):\n",
    "            uniques.append(list(dic.keys())[i][j])\n",
    "    return list(set(uniques))"
   ]
  },
  {
   "cell_type": "markdown",
   "id": "0e1da2eb",
   "metadata": {},
   "source": [
    "* **unique_items** function takes two arguments as *pair counts* and *check* number\n",
    "* *check* number helps to determine the number of items in the possible combinations\n",
    "* For each step, *check* number increases by one, so that it can determine the number of items in possible combinations in each step\n",
    "* This function detects the unique items in the pair counts and saves them to the *uniques* list\n",
    "* Why do we need that? Because some combinations can contain the same item. By detecting the unique items, they can ready to be combined. Otherwise there would some combinations that has duplicated items "
   ]
  },
  {
   "cell_type": "markdown",
   "id": "1557c08d",
   "metadata": {},
   "source": [
    "This is the main function of the implementation"
   ]
  },
  {
   "cell_type": "code",
   "execution_count": 32,
   "id": "2e28bd31",
   "metadata": {},
   "outputs": [],
   "source": [
    "check = 2\n",
    "prev_counts = {}\n",
    "def apriori(data, min_sup):  \n",
    "    res_counts = item_counter(data)\n",
    "    new_counts = remove_non_sup(res_counts, min_sup)\n",
    "    all_pairs = list(combinations(list(new_counts.keys()), 2))\n",
    "    def iteration(data, pairs, min_sup):\n",
    "        global check, prev_counts\n",
    "        valid_pairs = check_valid_pairs(data, pairs)\n",
    "        res_counts = pair_counter(data, valid_pairs)\n",
    "        new_counts = remove_non_sup(res_counts, min_sup)\n",
    "        unq_item = unique_items(new_counts, check)\n",
    "        check += 1\n",
    "        all_pairs = list(combinations(unq_item, check))\n",
    "        if len(all_pairs) != 0:\n",
    "            prev_counts = new_counts\n",
    "            iteration(data, all_pairs, min_sup)\n",
    "        check = 2\n",
    "        return prev_counts\n",
    "        \n",
    "    return iteration(data, all_pairs, min_sup)"
   ]
  },
  {
   "cell_type": "markdown",
   "id": "6df4ddbd",
   "metadata": {},
   "source": [
    "* This function takes two arguments as *transactions list* and *minimum support value*\n",
    "* It calls the *item_counter* and saves the item counts to *res_counts*\n",
    "* Next, it calls the *remove_non_sup* and saves the counts which have higher value than minimum support to *new_counts*\n",
    "* After that, it combines all of the possibilities of these items\n",
    "* This process defines the first iteration which contains only single items. For the remaining iterations, it needs to another function which is compatible to dealing with item pairs\n",
    "* That's why, **iteration** function is deployed \n",
    "* **iteration** function takes the same argument as its parent function but additionaly accepts the all possible pairs\n",
    "* It calls the *check_valid_pairs* to check the all possible pairs if they are valid or not and saves the valid ones to *valid_pairs*\n",
    "* Next, it calls the *pair_counter* to count each pair and saves to the dictionary named *res_counts*\n",
    "* After, it calls the *remove_non_sup* and saves the pair counts which have higher value than minimum support to *new_counts*\n",
    "* To determine the unique items for each pair, it calls the *unique_items* and saves these items to *unq_item*\n",
    "* *check* is increased by 1 because the items which provides the conditions are detected and the next step is determining the new combinations\n",
    "* These combinations are detected and saved as a list to *all_pairs*\n",
    "* At this step, it checks the condition if the process is done\n",
    "* In order to checking, it looks the length of *all_pairs* and if *all_pairs* is not empty, then the process must be continued. So the iteration function calls itself with new *pairs* list\n",
    "* But before calling itself, it saves the count of item pairs obtained in this step to *prev_counts*\n",
    "* If the next step does not return any pairs, it means the previous step is the last step. So it needs to save the last step's results to return them as the solution\n",
    "* If the *all_pairs* is empty, then it returns the previous step's solution"
   ]
  },
  {
   "cell_type": "markdown",
   "id": "583189b6",
   "metadata": {},
   "source": [
    "Example usage of apriori algorithm with 500 minimum support value"
   ]
  },
  {
   "cell_type": "code",
   "execution_count": 33,
   "id": "a65b45c9",
   "metadata": {},
   "outputs": [
    {
     "data": {
      "text/plain": [
       "{('Coffee', 'Cake'): 518, ('Bread', 'Coffee'): 852}"
      ]
     },
     "execution_count": 33,
     "metadata": {},
     "output_type": "execute_result"
    }
   ],
   "source": [
    "freq = apriori(transactions, 500)\n",
    "freq"
   ]
  },
  {
   "cell_type": "markdown",
   "id": "de131361",
   "metadata": {},
   "source": [
    "* It gets only count values with higher than 500"
   ]
  },
  {
   "cell_type": "markdown",
   "id": "bca9f9bc",
   "metadata": {},
   "source": [
    "### Task 5 - Taking the Final Result and Compare with the Actual Algorithm "
   ]
  },
  {
   "cell_type": "markdown",
   "id": "a4735f64",
   "metadata": {},
   "source": [
    "This is one of the most frequent pair and it's support value"
   ]
  },
  {
   "cell_type": "code",
   "execution_count": 34,
   "id": "02e0971b",
   "metadata": {},
   "outputs": [
    {
     "name": "stdout",
     "output_type": "stream",
     "text": [
      "('Coffee', 'Cake')\n",
      "518\n",
      "9.4011\n"
     ]
    }
   ],
   "source": [
    "print(list(freq.keys())[0])\n",
    "print(list(freq.values())[0])\n",
    "print(round(list(freq.values())[0] / len(transactions)*100, 4))"
   ]
  },
  {
   "cell_type": "markdown",
   "id": "715b23fd",
   "metadata": {},
   "source": [
    "* **Support value** indicates what percentage of transactions contains the **(Coffee, Cake)** pair\n",
    "* To obtain this score, divide the *support count* to the *length of the transactions* and multiply by 100\n",
    "* Output says, **9.4%** of the transactions involves this pair"
   ]
  },
  {
   "cell_type": "markdown",
   "id": "71e01cf1",
   "metadata": {},
   "source": [
    "This is the most frequent pair"
   ]
  },
  {
   "cell_type": "code",
   "execution_count": 35,
   "id": "e53ec16e",
   "metadata": {},
   "outputs": [
    {
     "name": "stdout",
     "output_type": "stream",
     "text": [
      "('Bread', 'Coffee')\n",
      "852\n",
      "15.4628\n"
     ]
    }
   ],
   "source": [
    "print(list(freq.keys())[1])\n",
    "print(list(freq.values())[1])\n",
    "print(round(list(freq.values())[1] / len(transactions)*100,4))"
   ]
  },
  {
   "cell_type": "markdown",
   "id": "c6534856",
   "metadata": {},
   "source": [
    "* **15.46%** of the transactions involves **(Coffee, Bread)** pair"
   ]
  },
  {
   "cell_type": "markdown",
   "id": "098b7c67",
   "metadata": {},
   "source": [
    "To compare this results with the actual apriori algorithm, mlxtend is imported"
   ]
  },
  {
   "cell_type": "code",
   "execution_count": 36,
   "id": "1a976112",
   "metadata": {},
   "outputs": [
    {
     "data": {
      "text/html": [
       "<div>\n",
       "<style scoped>\n",
       "    .dataframe tbody tr th:only-of-type {\n",
       "        vertical-align: middle;\n",
       "    }\n",
       "\n",
       "    .dataframe tbody tr th {\n",
       "        vertical-align: top;\n",
       "    }\n",
       "\n",
       "    .dataframe thead th {\n",
       "        text-align: right;\n",
       "    }\n",
       "</style>\n",
       "<table border=\"1\" class=\"dataframe\">\n",
       "  <thead>\n",
       "    <tr style=\"text-align: right;\">\n",
       "      <th></th>\n",
       "      <th>Afternoon with the baker</th>\n",
       "      <th>Alfajores</th>\n",
       "      <th>Argentina Night</th>\n",
       "      <th>Art Tray</th>\n",
       "      <th>Baguette</th>\n",
       "      <th>Bakewell</th>\n",
       "      <th>Bare Popcorn</th>\n",
       "      <th>Basket</th>\n",
       "      <th>Bowl Nic Pitt</th>\n",
       "      <th>Bread</th>\n",
       "      <th>...</th>\n",
       "      <th>Tea</th>\n",
       "      <th>The Nomad</th>\n",
       "      <th>Tiffin</th>\n",
       "      <th>Toast</th>\n",
       "      <th>Truffles</th>\n",
       "      <th>Tshirt</th>\n",
       "      <th>Valentine's card</th>\n",
       "      <th>Vegan Feast</th>\n",
       "      <th>Vegan mincepie</th>\n",
       "      <th>Victorian Sponge</th>\n",
       "    </tr>\n",
       "  </thead>\n",
       "  <tbody>\n",
       "    <tr>\n",
       "      <th>0</th>\n",
       "      <td>False</td>\n",
       "      <td>False</td>\n",
       "      <td>False</td>\n",
       "      <td>False</td>\n",
       "      <td>False</td>\n",
       "      <td>False</td>\n",
       "      <td>False</td>\n",
       "      <td>False</td>\n",
       "      <td>False</td>\n",
       "      <td>False</td>\n",
       "      <td>...</td>\n",
       "      <td>False</td>\n",
       "      <td>False</td>\n",
       "      <td>False</td>\n",
       "      <td>False</td>\n",
       "      <td>False</td>\n",
       "      <td>False</td>\n",
       "      <td>False</td>\n",
       "      <td>False</td>\n",
       "      <td>False</td>\n",
       "      <td>False</td>\n",
       "    </tr>\n",
       "    <tr>\n",
       "      <th>1</th>\n",
       "      <td>False</td>\n",
       "      <td>False</td>\n",
       "      <td>False</td>\n",
       "      <td>False</td>\n",
       "      <td>False</td>\n",
       "      <td>False</td>\n",
       "      <td>False</td>\n",
       "      <td>False</td>\n",
       "      <td>False</td>\n",
       "      <td>True</td>\n",
       "      <td>...</td>\n",
       "      <td>False</td>\n",
       "      <td>False</td>\n",
       "      <td>False</td>\n",
       "      <td>False</td>\n",
       "      <td>False</td>\n",
       "      <td>False</td>\n",
       "      <td>False</td>\n",
       "      <td>False</td>\n",
       "      <td>False</td>\n",
       "      <td>False</td>\n",
       "    </tr>\n",
       "    <tr>\n",
       "      <th>2</th>\n",
       "      <td>False</td>\n",
       "      <td>False</td>\n",
       "      <td>False</td>\n",
       "      <td>False</td>\n",
       "      <td>False</td>\n",
       "      <td>False</td>\n",
       "      <td>False</td>\n",
       "      <td>False</td>\n",
       "      <td>False</td>\n",
       "      <td>False</td>\n",
       "      <td>...</td>\n",
       "      <td>False</td>\n",
       "      <td>False</td>\n",
       "      <td>False</td>\n",
       "      <td>False</td>\n",
       "      <td>False</td>\n",
       "      <td>False</td>\n",
       "      <td>False</td>\n",
       "      <td>False</td>\n",
       "      <td>False</td>\n",
       "      <td>False</td>\n",
       "    </tr>\n",
       "    <tr>\n",
       "      <th>3</th>\n",
       "      <td>False</td>\n",
       "      <td>False</td>\n",
       "      <td>False</td>\n",
       "      <td>False</td>\n",
       "      <td>False</td>\n",
       "      <td>False</td>\n",
       "      <td>False</td>\n",
       "      <td>False</td>\n",
       "      <td>False</td>\n",
       "      <td>False</td>\n",
       "      <td>...</td>\n",
       "      <td>True</td>\n",
       "      <td>False</td>\n",
       "      <td>False</td>\n",
       "      <td>False</td>\n",
       "      <td>False</td>\n",
       "      <td>False</td>\n",
       "      <td>False</td>\n",
       "      <td>False</td>\n",
       "      <td>False</td>\n",
       "      <td>False</td>\n",
       "    </tr>\n",
       "    <tr>\n",
       "      <th>4</th>\n",
       "      <td>False</td>\n",
       "      <td>False</td>\n",
       "      <td>False</td>\n",
       "      <td>False</td>\n",
       "      <td>False</td>\n",
       "      <td>False</td>\n",
       "      <td>False</td>\n",
       "      <td>False</td>\n",
       "      <td>False</td>\n",
       "      <td>True</td>\n",
       "      <td>...</td>\n",
       "      <td>False</td>\n",
       "      <td>False</td>\n",
       "      <td>False</td>\n",
       "      <td>False</td>\n",
       "      <td>False</td>\n",
       "      <td>False</td>\n",
       "      <td>False</td>\n",
       "      <td>False</td>\n",
       "      <td>False</td>\n",
       "      <td>False</td>\n",
       "    </tr>\n",
       "    <tr>\n",
       "      <th>...</th>\n",
       "      <td>...</td>\n",
       "      <td>...</td>\n",
       "      <td>...</td>\n",
       "      <td>...</td>\n",
       "      <td>...</td>\n",
       "      <td>...</td>\n",
       "      <td>...</td>\n",
       "      <td>...</td>\n",
       "      <td>...</td>\n",
       "      <td>...</td>\n",
       "      <td>...</td>\n",
       "      <td>...</td>\n",
       "      <td>...</td>\n",
       "      <td>...</td>\n",
       "      <td>...</td>\n",
       "      <td>...</td>\n",
       "      <td>...</td>\n",
       "      <td>...</td>\n",
       "      <td>...</td>\n",
       "      <td>...</td>\n",
       "      <td>...</td>\n",
       "    </tr>\n",
       "    <tr>\n",
       "      <th>5505</th>\n",
       "      <td>False</td>\n",
       "      <td>False</td>\n",
       "      <td>False</td>\n",
       "      <td>False</td>\n",
       "      <td>False</td>\n",
       "      <td>False</td>\n",
       "      <td>False</td>\n",
       "      <td>False</td>\n",
       "      <td>False</td>\n",
       "      <td>False</td>\n",
       "      <td>...</td>\n",
       "      <td>False</td>\n",
       "      <td>False</td>\n",
       "      <td>False</td>\n",
       "      <td>True</td>\n",
       "      <td>False</td>\n",
       "      <td>False</td>\n",
       "      <td>False</td>\n",
       "      <td>False</td>\n",
       "      <td>False</td>\n",
       "      <td>False</td>\n",
       "    </tr>\n",
       "    <tr>\n",
       "      <th>5506</th>\n",
       "      <td>False</td>\n",
       "      <td>False</td>\n",
       "      <td>False</td>\n",
       "      <td>False</td>\n",
       "      <td>False</td>\n",
       "      <td>False</td>\n",
       "      <td>False</td>\n",
       "      <td>False</td>\n",
       "      <td>False</td>\n",
       "      <td>True</td>\n",
       "      <td>...</td>\n",
       "      <td>False</td>\n",
       "      <td>False</td>\n",
       "      <td>False</td>\n",
       "      <td>False</td>\n",
       "      <td>False</td>\n",
       "      <td>False</td>\n",
       "      <td>False</td>\n",
       "      <td>False</td>\n",
       "      <td>False</td>\n",
       "      <td>False</td>\n",
       "    </tr>\n",
       "    <tr>\n",
       "      <th>5507</th>\n",
       "      <td>False</td>\n",
       "      <td>False</td>\n",
       "      <td>False</td>\n",
       "      <td>False</td>\n",
       "      <td>False</td>\n",
       "      <td>False</td>\n",
       "      <td>False</td>\n",
       "      <td>False</td>\n",
       "      <td>False</td>\n",
       "      <td>False</td>\n",
       "      <td>...</td>\n",
       "      <td>True</td>\n",
       "      <td>False</td>\n",
       "      <td>False</td>\n",
       "      <td>False</td>\n",
       "      <td>True</td>\n",
       "      <td>False</td>\n",
       "      <td>False</td>\n",
       "      <td>False</td>\n",
       "      <td>False</td>\n",
       "      <td>False</td>\n",
       "    </tr>\n",
       "    <tr>\n",
       "      <th>5508</th>\n",
       "      <td>False</td>\n",
       "      <td>False</td>\n",
       "      <td>False</td>\n",
       "      <td>False</td>\n",
       "      <td>False</td>\n",
       "      <td>False</td>\n",
       "      <td>False</td>\n",
       "      <td>False</td>\n",
       "      <td>False</td>\n",
       "      <td>False</td>\n",
       "      <td>...</td>\n",
       "      <td>True</td>\n",
       "      <td>False</td>\n",
       "      <td>False</td>\n",
       "      <td>False</td>\n",
       "      <td>False</td>\n",
       "      <td>False</td>\n",
       "      <td>False</td>\n",
       "      <td>False</td>\n",
       "      <td>False</td>\n",
       "      <td>False</td>\n",
       "    </tr>\n",
       "    <tr>\n",
       "      <th>5509</th>\n",
       "      <td>False</td>\n",
       "      <td>False</td>\n",
       "      <td>False</td>\n",
       "      <td>False</td>\n",
       "      <td>False</td>\n",
       "      <td>False</td>\n",
       "      <td>False</td>\n",
       "      <td>False</td>\n",
       "      <td>False</td>\n",
       "      <td>False</td>\n",
       "      <td>...</td>\n",
       "      <td>False</td>\n",
       "      <td>False</td>\n",
       "      <td>False</td>\n",
       "      <td>False</td>\n",
       "      <td>False</td>\n",
       "      <td>False</td>\n",
       "      <td>False</td>\n",
       "      <td>False</td>\n",
       "      <td>False</td>\n",
       "      <td>False</td>\n",
       "    </tr>\n",
       "  </tbody>\n",
       "</table>\n",
       "<p>5510 rows × 85 columns</p>\n",
       "</div>"
      ],
      "text/plain": [
       "      Afternoon with the baker  Alfajores  Argentina Night  Art Tray  \\\n",
       "0                        False      False            False     False   \n",
       "1                        False      False            False     False   \n",
       "2                        False      False            False     False   \n",
       "3                        False      False            False     False   \n",
       "4                        False      False            False     False   \n",
       "...                        ...        ...              ...       ...   \n",
       "5505                     False      False            False     False   \n",
       "5506                     False      False            False     False   \n",
       "5507                     False      False            False     False   \n",
       "5508                     False      False            False     False   \n",
       "5509                     False      False            False     False   \n",
       "\n",
       "      Baguette  Bakewell  Bare Popcorn  Basket  Bowl Nic Pitt  Bread  ...  \\\n",
       "0        False     False         False   False          False  False  ...   \n",
       "1        False     False         False   False          False   True  ...   \n",
       "2        False     False         False   False          False  False  ...   \n",
       "3        False     False         False   False          False  False  ...   \n",
       "4        False     False         False   False          False   True  ...   \n",
       "...        ...       ...           ...     ...            ...    ...  ...   \n",
       "5505     False     False         False   False          False  False  ...   \n",
       "5506     False     False         False   False          False   True  ...   \n",
       "5507     False     False         False   False          False  False  ...   \n",
       "5508     False     False         False   False          False  False  ...   \n",
       "5509     False     False         False   False          False  False  ...   \n",
       "\n",
       "        Tea  The Nomad  Tiffin  Toast  Truffles  Tshirt  Valentine's card  \\\n",
       "0     False      False   False  False     False   False             False   \n",
       "1     False      False   False  False     False   False             False   \n",
       "2     False      False   False  False     False   False             False   \n",
       "3      True      False   False  False     False   False             False   \n",
       "4     False      False   False  False     False   False             False   \n",
       "...     ...        ...     ...    ...       ...     ...               ...   \n",
       "5505  False      False   False   True     False   False             False   \n",
       "5506  False      False   False  False     False   False             False   \n",
       "5507   True      False   False  False      True   False             False   \n",
       "5508   True      False   False  False     False   False             False   \n",
       "5509  False      False   False  False     False   False             False   \n",
       "\n",
       "      Vegan Feast  Vegan mincepie  Victorian Sponge  \n",
       "0           False           False             False  \n",
       "1           False           False             False  \n",
       "2           False           False             False  \n",
       "3           False           False             False  \n",
       "4           False           False             False  \n",
       "...           ...             ...               ...  \n",
       "5505        False           False             False  \n",
       "5506        False           False             False  \n",
       "5507        False           False             False  \n",
       "5508        False           False             False  \n",
       "5509        False           False             False  \n",
       "\n",
       "[5510 rows x 85 columns]"
      ]
     },
     "execution_count": 36,
     "metadata": {},
     "output_type": "execute_result"
    }
   ],
   "source": [
    "from mlxtend.preprocessing import TransactionEncoder\n",
    "\n",
    "te = TransactionEncoder()\n",
    "te_ary = te.fit(transactions).transform(transactions)\n",
    "df = pd.DataFrame(te_ary, columns=te.columns_)\n",
    "df"
   ]
  },
  {
   "cell_type": "markdown",
   "id": "7fd641f1",
   "metadata": {},
   "source": [
    "Execution of apriori algorithm from mlxtend"
   ]
  },
  {
   "cell_type": "code",
   "execution_count": 37,
   "id": "49e7c022",
   "metadata": {
    "scrolled": true
   },
   "outputs": [
    {
     "data": {
      "text/html": [
       "<div>\n",
       "<style scoped>\n",
       "    .dataframe tbody tr th:only-of-type {\n",
       "        vertical-align: middle;\n",
       "    }\n",
       "\n",
       "    .dataframe tbody tr th {\n",
       "        vertical-align: top;\n",
       "    }\n",
       "\n",
       "    .dataframe thead th {\n",
       "        text-align: right;\n",
       "    }\n",
       "</style>\n",
       "<table border=\"1\" class=\"dataframe\">\n",
       "  <thead>\n",
       "    <tr style=\"text-align: right;\">\n",
       "      <th></th>\n",
       "      <th>support</th>\n",
       "      <th>itemsets</th>\n",
       "      <th>length</th>\n",
       "    </tr>\n",
       "  </thead>\n",
       "  <tbody>\n",
       "    <tr>\n",
       "      <th>0</th>\n",
       "      <td>60.49</td>\n",
       "      <td>(Coffee)</td>\n",
       "      <td>1</td>\n",
       "    </tr>\n",
       "    <tr>\n",
       "      <th>1</th>\n",
       "      <td>34.52</td>\n",
       "      <td>(Bread)</td>\n",
       "      <td>1</td>\n",
       "    </tr>\n",
       "    <tr>\n",
       "      <th>2</th>\n",
       "      <td>20.76</td>\n",
       "      <td>(Tea)</td>\n",
       "      <td>1</td>\n",
       "    </tr>\n",
       "    <tr>\n",
       "      <th>3</th>\n",
       "      <td>16.04</td>\n",
       "      <td>(Cake)</td>\n",
       "      <td>1</td>\n",
       "    </tr>\n",
       "    <tr>\n",
       "      <th>4</th>\n",
       "      <td>15.46</td>\n",
       "      <td>(Bread, Coffee)</td>\n",
       "      <td>2</td>\n",
       "    </tr>\n",
       "  </tbody>\n",
       "</table>\n",
       "</div>"
      ],
      "text/plain": [
       "   support         itemsets  length\n",
       "0    60.49         (Coffee)       1\n",
       "1    34.52          (Bread)       1\n",
       "2    20.76            (Tea)       1\n",
       "3    16.04           (Cake)       1\n",
       "4    15.46  (Bread, Coffee)       2"
      ]
     },
     "execution_count": 37,
     "metadata": {},
     "output_type": "execute_result"
    }
   ],
   "source": [
    "from mlxtend.frequent_patterns import apriori\n",
    "\n",
    "frequent_itemsets = apriori(df, min_support=0.0001, use_colnames=True)\n",
    "frequent_itemsets['length'] = frequent_itemsets['itemsets'].apply(lambda x: len(x))\n",
    "frequent_itemsets[\"support\"] = frequent_itemsets[\"support\"].apply(lambda x: round(x*100, 2))\n",
    "all_freq = frequent_itemsets.sort_values(by=\"support\", ascending=False).reset_index().drop(\"index\", axis=1)\n",
    "all_freq.head()"
   ]
  },
  {
   "cell_type": "markdown",
   "id": "dc23f022",
   "metadata": {},
   "source": [
    "* *min_support* parameter is determined as the very tiny number such as *0.0001*\n",
    "* The aim was demonstrating the longer pairs because longer pairs have much lower support value"
   ]
  },
  {
   "cell_type": "markdown",
   "id": "7e63f2ef",
   "metadata": {},
   "source": [
    "Looking for the most frequent items with length of 2 pairs"
   ]
  },
  {
   "cell_type": "code",
   "execution_count": 38,
   "id": "571d745f",
   "metadata": {
    "scrolled": true
   },
   "outputs": [
    {
     "name": "stderr",
     "output_type": "stream",
     "text": [
      "C:\\Users\\DELL\\anaconda3\\lib\\site-packages\\ipykernel\\ipkernel.py:287: DeprecationWarning: `should_run_async` will not call `transform_cell` automatically in the future. Please pass the result to `transformed_cell` argument and any exception that happen during thetransform in `preprocessing_exc_tuple` in IPython 7.17 and above.\n",
      "  and should_run_async(code)\n"
     ]
    },
    {
     "data": {
      "text/html": [
       "<div>\n",
       "<style scoped>\n",
       "    .dataframe tbody tr th:only-of-type {\n",
       "        vertical-align: middle;\n",
       "    }\n",
       "\n",
       "    .dataframe tbody tr th {\n",
       "        vertical-align: top;\n",
       "    }\n",
       "\n",
       "    .dataframe thead th {\n",
       "        text-align: right;\n",
       "    }\n",
       "</style>\n",
       "<table border=\"1\" class=\"dataframe\">\n",
       "  <thead>\n",
       "    <tr style=\"text-align: right;\">\n",
       "      <th></th>\n",
       "      <th>support</th>\n",
       "      <th>itemsets</th>\n",
       "      <th>length</th>\n",
       "    </tr>\n",
       "  </thead>\n",
       "  <tbody>\n",
       "    <tr>\n",
       "      <th>0</th>\n",
       "      <td>15.46</td>\n",
       "      <td>(Bread, Coffee)</td>\n",
       "      <td>2</td>\n",
       "    </tr>\n",
       "    <tr>\n",
       "      <th>1</th>\n",
       "      <td>9.40</td>\n",
       "      <td>(Cake, Coffee)</td>\n",
       "      <td>2</td>\n",
       "    </tr>\n",
       "    <tr>\n",
       "      <th>2</th>\n",
       "      <td>8.55</td>\n",
       "      <td>(Tea, Coffee)</td>\n",
       "      <td>2</td>\n",
       "    </tr>\n",
       "    <tr>\n",
       "      <th>3</th>\n",
       "      <td>8.17</td>\n",
       "      <td>(Pastry, Coffee)</td>\n",
       "      <td>2</td>\n",
       "    </tr>\n",
       "    <tr>\n",
       "      <th>4</th>\n",
       "      <td>6.57</td>\n",
       "      <td>(Sandwich, Coffee)</td>\n",
       "      <td>2</td>\n",
       "    </tr>\n",
       "  </tbody>\n",
       "</table>\n",
       "</div>"
      ],
      "text/plain": [
       "   support            itemsets  length\n",
       "0    15.46     (Bread, Coffee)       2\n",
       "1     9.40      (Cake, Coffee)       2\n",
       "2     8.55       (Tea, Coffee)       2\n",
       "3     8.17    (Pastry, Coffee)       2\n",
       "4     6.57  (Sandwich, Coffee)       2"
      ]
     },
     "execution_count": 38,
     "metadata": {},
     "output_type": "execute_result"
    }
   ],
   "source": [
    "freq_len_2 = frequent_itemsets[(frequent_itemsets['length'] == 2)].sort_values(by=\"support\", ascending=False).reset_index().drop(\"index\", axis=1)\n",
    "freq_len_2.head()"
   ]
  },
  {
   "cell_type": "markdown",
   "id": "1fed5792",
   "metadata": {},
   "source": [
    "* Recall that the output of the implemented apriori algorithm for **(Coffee, Bread)** was **15.46**, for **(Cake, Coffee)** was **9.4**\n",
    "* As you can see, the actual apriori gives the same scores\n",
    "* So the implementation is successfull 🥳"
   ]
  },
  {
   "cell_type": "markdown",
   "id": "6e7f0361",
   "metadata": {},
   "source": [
    "Looking for the most frequent items with length of 3 pairs"
   ]
  },
  {
   "cell_type": "code",
   "execution_count": 39,
   "id": "77e328ae",
   "metadata": {},
   "outputs": [
    {
     "name": "stderr",
     "output_type": "stream",
     "text": [
      "C:\\Users\\DELL\\anaconda3\\lib\\site-packages\\ipykernel\\ipkernel.py:287: DeprecationWarning: `should_run_async` will not call `transform_cell` automatically in the future. Please pass the result to `transformed_cell` argument and any exception that happen during thetransform in `preprocessing_exc_tuple` in IPython 7.17 and above.\n",
      "  and should_run_async(code)\n"
     ]
    },
    {
     "data": {
      "text/html": [
       "<div>\n",
       "<style scoped>\n",
       "    .dataframe tbody tr th:only-of-type {\n",
       "        vertical-align: middle;\n",
       "    }\n",
       "\n",
       "    .dataframe tbody tr th {\n",
       "        vertical-align: top;\n",
       "    }\n",
       "\n",
       "    .dataframe thead th {\n",
       "        text-align: right;\n",
       "    }\n",
       "</style>\n",
       "<table border=\"1\" class=\"dataframe\">\n",
       "  <thead>\n",
       "    <tr style=\"text-align: right;\">\n",
       "      <th></th>\n",
       "      <th>support</th>\n",
       "      <th>itemsets</th>\n",
       "      <th>length</th>\n",
       "    </tr>\n",
       "  </thead>\n",
       "  <tbody>\n",
       "    <tr>\n",
       "      <th>0</th>\n",
       "      <td>1.92</td>\n",
       "      <td>(Pastry, Bread, Coffee)</td>\n",
       "      <td>3</td>\n",
       "    </tr>\n",
       "    <tr>\n",
       "      <th>1</th>\n",
       "      <td>1.72</td>\n",
       "      <td>(Cake, Tea, Coffee)</td>\n",
       "      <td>3</td>\n",
       "    </tr>\n",
       "    <tr>\n",
       "      <th>2</th>\n",
       "      <td>1.72</td>\n",
       "      <td>(Cake, Bread, Coffee)</td>\n",
       "      <td>3</td>\n",
       "    </tr>\n",
       "    <tr>\n",
       "      <th>3</th>\n",
       "      <td>1.27</td>\n",
       "      <td>(Tea, Bread, Coffee)</td>\n",
       "      <td>3</td>\n",
       "    </tr>\n",
       "    <tr>\n",
       "      <th>4</th>\n",
       "      <td>1.23</td>\n",
       "      <td>(Sandwich, Bread, Coffee)</td>\n",
       "      <td>3</td>\n",
       "    </tr>\n",
       "  </tbody>\n",
       "</table>\n",
       "</div>"
      ],
      "text/plain": [
       "   support                   itemsets  length\n",
       "0     1.92    (Pastry, Bread, Coffee)       3\n",
       "1     1.72        (Cake, Tea, Coffee)       3\n",
       "2     1.72      (Cake, Bread, Coffee)       3\n",
       "3     1.27       (Tea, Bread, Coffee)       3\n",
       "4     1.23  (Sandwich, Bread, Coffee)       3"
      ]
     },
     "execution_count": 39,
     "metadata": {},
     "output_type": "execute_result"
    }
   ],
   "source": [
    "freq_len_3 = frequent_itemsets[(frequent_itemsets['length'] == 3)].sort_values(by=\"support\", ascending=False).reset_index().drop(\"index\", axis=1)\n",
    "freq_len_3.head()"
   ]
  },
  {
   "cell_type": "markdown",
   "id": "94c3965a",
   "metadata": {},
   "source": [
    "* The most frequent items bought together with lenght of 3 is **(Pastry, Coffee, Bread)**\n",
    "* Almost 2% of the transactions involves these 3"
   ]
  },
  {
   "cell_type": "markdown",
   "id": "2cd157ab",
   "metadata": {},
   "source": [
    "Looking for the most frequent items with length of 4 pairs"
   ]
  },
  {
   "cell_type": "code",
   "execution_count": 40,
   "id": "da17bcf5",
   "metadata": {},
   "outputs": [
    {
     "name": "stderr",
     "output_type": "stream",
     "text": [
      "C:\\Users\\DELL\\anaconda3\\lib\\site-packages\\ipykernel\\ipkernel.py:287: DeprecationWarning: `should_run_async` will not call `transform_cell` automatically in the future. Please pass the result to `transformed_cell` argument and any exception that happen during thetransform in `preprocessing_exc_tuple` in IPython 7.17 and above.\n",
      "  and should_run_async(code)\n"
     ]
    },
    {
     "data": {
      "text/html": [
       "<div>\n",
       "<style scoped>\n",
       "    .dataframe tbody tr th:only-of-type {\n",
       "        vertical-align: middle;\n",
       "    }\n",
       "\n",
       "    .dataframe tbody tr th {\n",
       "        vertical-align: top;\n",
       "    }\n",
       "\n",
       "    .dataframe thead th {\n",
       "        text-align: right;\n",
       "    }\n",
       "</style>\n",
       "<table border=\"1\" class=\"dataframe\">\n",
       "  <thead>\n",
       "    <tr style=\"text-align: right;\">\n",
       "      <th></th>\n",
       "      <th>support</th>\n",
       "      <th>itemsets</th>\n",
       "      <th>length</th>\n",
       "    </tr>\n",
       "  </thead>\n",
       "  <tbody>\n",
       "    <tr>\n",
       "      <th>0</th>\n",
       "      <td>0.24</td>\n",
       "      <td>(Cake, Tea, Bread, Coffee)</td>\n",
       "      <td>4</td>\n",
       "    </tr>\n",
       "    <tr>\n",
       "      <th>1</th>\n",
       "      <td>0.20</td>\n",
       "      <td>(Pastry, Medialuna, Bread, Coffee)</td>\n",
       "      <td>4</td>\n",
       "    </tr>\n",
       "    <tr>\n",
       "      <th>2</th>\n",
       "      <td>0.18</td>\n",
       "      <td>(Cake, Tea, Sandwich, Coffee)</td>\n",
       "      <td>4</td>\n",
       "    </tr>\n",
       "    <tr>\n",
       "      <th>3</th>\n",
       "      <td>0.18</td>\n",
       "      <td>(Pastry, Bread, Hot chocolate, Coffee)</td>\n",
       "      <td>4</td>\n",
       "    </tr>\n",
       "    <tr>\n",
       "      <th>4</th>\n",
       "      <td>0.16</td>\n",
       "      <td>(Cake, Bread, Hot chocolate, Coffee)</td>\n",
       "      <td>4</td>\n",
       "    </tr>\n",
       "  </tbody>\n",
       "</table>\n",
       "</div>"
      ],
      "text/plain": [
       "   support                                itemsets  length\n",
       "0     0.24              (Cake, Tea, Bread, Coffee)       4\n",
       "1     0.20      (Pastry, Medialuna, Bread, Coffee)       4\n",
       "2     0.18           (Cake, Tea, Sandwich, Coffee)       4\n",
       "3     0.18  (Pastry, Bread, Hot chocolate, Coffee)       4\n",
       "4     0.16    (Cake, Bread, Hot chocolate, Coffee)       4"
      ]
     },
     "execution_count": 40,
     "metadata": {},
     "output_type": "execute_result"
    }
   ],
   "source": [
    "freq_len_4 = frequent_itemsets[(frequent_itemsets['length'] == 4)].sort_values(by=\"support\", ascending=False).reset_index().drop(\"index\", axis=1)\n",
    "freq_len_4.head()"
   ]
  },
  {
   "cell_type": "markdown",
   "id": "e337a687",
   "metadata": {},
   "source": [
    "* The most frequent items bought together with lenght of 4 is **(Cake, Tea, Coffee, Bread)**\n",
    "* 0.24% of the transactions involves these 4"
   ]
  },
  {
   "cell_type": "markdown",
   "id": "9fcd5813",
   "metadata": {},
   "source": [
    "Looking for the most frequent items with length of 5 pairs"
   ]
  },
  {
   "cell_type": "code",
   "execution_count": 41,
   "id": "2e0cf2a4",
   "metadata": {},
   "outputs": [
    {
     "name": "stderr",
     "output_type": "stream",
     "text": [
      "C:\\Users\\DELL\\anaconda3\\lib\\site-packages\\ipykernel\\ipkernel.py:287: DeprecationWarning: `should_run_async` will not call `transform_cell` automatically in the future. Please pass the result to `transformed_cell` argument and any exception that happen during thetransform in `preprocessing_exc_tuple` in IPython 7.17 and above.\n",
      "  and should_run_async(code)\n"
     ]
    },
    {
     "data": {
      "text/html": [
       "<div>\n",
       "<style scoped>\n",
       "    .dataframe tbody tr th:only-of-type {\n",
       "        vertical-align: middle;\n",
       "    }\n",
       "\n",
       "    .dataframe tbody tr th {\n",
       "        vertical-align: top;\n",
       "    }\n",
       "\n",
       "    .dataframe thead th {\n",
       "        text-align: right;\n",
       "    }\n",
       "</style>\n",
       "<table border=\"1\" class=\"dataframe\">\n",
       "  <thead>\n",
       "    <tr style=\"text-align: right;\">\n",
       "      <th></th>\n",
       "      <th>support</th>\n",
       "      <th>itemsets</th>\n",
       "      <th>length</th>\n",
       "    </tr>\n",
       "  </thead>\n",
       "  <tbody>\n",
       "    <tr>\n",
       "      <th>0</th>\n",
       "      <td>0.07</td>\n",
       "      <td>(Tea, Soup, Coffee, Cake, Sandwich)</td>\n",
       "      <td>5</td>\n",
       "    </tr>\n",
       "    <tr>\n",
       "      <th>1</th>\n",
       "      <td>0.05</td>\n",
       "      <td>(Tea, Cookies, Coffee, Cake, Sandwich)</td>\n",
       "      <td>5</td>\n",
       "    </tr>\n",
       "    <tr>\n",
       "      <th>2</th>\n",
       "      <td>0.05</td>\n",
       "      <td>(Tea, Coffee, Cake, Pastry, Bread)</td>\n",
       "      <td>5</td>\n",
       "    </tr>\n",
       "    <tr>\n",
       "      <th>3</th>\n",
       "      <td>0.05</td>\n",
       "      <td>(Tea, Medialuna, Coffee, Bread, Sandwich)</td>\n",
       "      <td>5</td>\n",
       "    </tr>\n",
       "    <tr>\n",
       "      <th>4</th>\n",
       "      <td>0.05</td>\n",
       "      <td>(Juice, Tea, Cookies, Coffee, Alfajores)</td>\n",
       "      <td>5</td>\n",
       "    </tr>\n",
       "  </tbody>\n",
       "</table>\n",
       "</div>"
      ],
      "text/plain": [
       "   support                                   itemsets  length\n",
       "0     0.07        (Tea, Soup, Coffee, Cake, Sandwich)       5\n",
       "1     0.05     (Tea, Cookies, Coffee, Cake, Sandwich)       5\n",
       "2     0.05         (Tea, Coffee, Cake, Pastry, Bread)       5\n",
       "3     0.05  (Tea, Medialuna, Coffee, Bread, Sandwich)       5\n",
       "4     0.05   (Juice, Tea, Cookies, Coffee, Alfajores)       5"
      ]
     },
     "execution_count": 41,
     "metadata": {},
     "output_type": "execute_result"
    }
   ],
   "source": [
    "freq_len_5 = frequent_itemsets[(frequent_itemsets['length'] == 5)].sort_values(by=\"support\", ascending=False).reset_index().drop(\"index\", axis=1)\n",
    "freq_len_5.head()"
   ]
  },
  {
   "cell_type": "markdown",
   "id": "2f25cc3e",
   "metadata": {},
   "source": [
    "* The most frequent items bought together with lenght of 5 is **(Cake, Soup, Sandwich, Tea, Coffee)**\n",
    "* 0.07% of the transactions involves these 5"
   ]
  },
  {
   "cell_type": "markdown",
   "id": "4cc5f28f",
   "metadata": {},
   "source": [
    "Looking for the most frequent items with length of 6 pairs"
   ]
  },
  {
   "cell_type": "code",
   "execution_count": 42,
   "id": "2a6d5785",
   "metadata": {
    "scrolled": true
   },
   "outputs": [
    {
     "name": "stderr",
     "output_type": "stream",
     "text": [
      "C:\\Users\\DELL\\anaconda3\\lib\\site-packages\\ipykernel\\ipkernel.py:287: DeprecationWarning: `should_run_async` will not call `transform_cell` automatically in the future. Please pass the result to `transformed_cell` argument and any exception that happen during thetransform in `preprocessing_exc_tuple` in IPython 7.17 and above.\n",
      "  and should_run_async(code)\n"
     ]
    },
    {
     "data": {
      "text/html": [
       "<div>\n",
       "<style scoped>\n",
       "    .dataframe tbody tr th:only-of-type {\n",
       "        vertical-align: middle;\n",
       "    }\n",
       "\n",
       "    .dataframe tbody tr th {\n",
       "        vertical-align: top;\n",
       "    }\n",
       "\n",
       "    .dataframe thead th {\n",
       "        text-align: right;\n",
       "    }\n",
       "</style>\n",
       "<table border=\"1\" class=\"dataframe\">\n",
       "  <thead>\n",
       "    <tr style=\"text-align: right;\">\n",
       "      <th></th>\n",
       "      <th>support</th>\n",
       "      <th>itemsets</th>\n",
       "      <th>length</th>\n",
       "    </tr>\n",
       "  </thead>\n",
       "  <tbody>\n",
       "    <tr>\n",
       "      <th>0</th>\n",
       "      <td>0.04</td>\n",
       "      <td>(Tea, Cookies, Soup, Coffee, Cake, Sandwich)</td>\n",
       "      <td>6</td>\n",
       "    </tr>\n",
       "    <tr>\n",
       "      <th>1</th>\n",
       "      <td>0.02</td>\n",
       "      <td>(Juice, Art Tray, Alfajores, Cake, Spanish Bru...</td>\n",
       "      <td>6</td>\n",
       "    </tr>\n",
       "    <tr>\n",
       "      <th>2</th>\n",
       "      <td>0.02</td>\n",
       "      <td>(Medialuna, Soup, Coffee, Tiffin, Bread, Sandw...</td>\n",
       "      <td>6</td>\n",
       "    </tr>\n",
       "    <tr>\n",
       "      <th>3</th>\n",
       "      <td>0.02</td>\n",
       "      <td>(Tea, Coffee, Muffin, Bread, Sandwich, Hot cho...</td>\n",
       "      <td>6</td>\n",
       "    </tr>\n",
       "    <tr>\n",
       "      <th>4</th>\n",
       "      <td>0.02</td>\n",
       "      <td>(Tea, Coffee, Tiffin, Bread, Scone, Hot chocol...</td>\n",
       "      <td>6</td>\n",
       "    </tr>\n",
       "  </tbody>\n",
       "</table>\n",
       "</div>"
      ],
      "text/plain": [
       "   support                                           itemsets  length\n",
       "0     0.04       (Tea, Cookies, Soup, Coffee, Cake, Sandwich)       6\n",
       "1     0.02  (Juice, Art Tray, Alfajores, Cake, Spanish Bru...       6\n",
       "2     0.02  (Medialuna, Soup, Coffee, Tiffin, Bread, Sandw...       6\n",
       "3     0.02  (Tea, Coffee, Muffin, Bread, Sandwich, Hot cho...       6\n",
       "4     0.02  (Tea, Coffee, Tiffin, Bread, Scone, Hot chocol...       6"
      ]
     },
     "execution_count": 42,
     "metadata": {},
     "output_type": "execute_result"
    }
   ],
   "source": [
    "freq_len_6 = frequent_itemsets[(frequent_itemsets['length'] == 6)].sort_values(by=\"support\", ascending=False).reset_index().drop(\"index\", axis=1)\n",
    "freq_len_6.head()"
   ]
  },
  {
   "cell_type": "markdown",
   "id": "2ac5d77d",
   "metadata": {},
   "source": [
    "* The most frequent items bought together with lenght of 6 is **(Cake, Soup, Cookies, Sandwich, Tea, Coffee)**\n",
    "* 0.04% of the transactions involves these 6"
   ]
  },
  {
   "cell_type": "markdown",
   "id": "80a439ef",
   "metadata": {},
   "source": [
    "* At this point, we realized that the remaining sets have the support value as 0.02\n",
    "* So we thought this value is the lowest possible value\n",
    "* To learn it, we divided 100 to the number of transactions"
   ]
  },
  {
   "cell_type": "code",
   "execution_count": 43,
   "id": "c4116853",
   "metadata": {},
   "outputs": [
    {
     "name": "stderr",
     "output_type": "stream",
     "text": [
      "C:\\Users\\DELL\\anaconda3\\lib\\site-packages\\ipykernel\\ipkernel.py:287: DeprecationWarning: `should_run_async` will not call `transform_cell` automatically in the future. Please pass the result to `transformed_cell` argument and any exception that happen during thetransform in `preprocessing_exc_tuple` in IPython 7.17 and above.\n",
      "  and should_run_async(code)\n"
     ]
    },
    {
     "data": {
      "text/plain": [
       "0.02"
      ]
     },
     "execution_count": 43,
     "metadata": {},
     "output_type": "execute_result"
    }
   ],
   "source": [
    "round(100 / len(transactions), 2)"
   ]
  },
  {
   "cell_type": "markdown",
   "id": "833002f5",
   "metadata": {},
   "source": [
    "* 0.02 is the lowest support value and this indicates that the sets with support value of 0.02 are involved only once in all of the transactions\n",
    "* So they cannot be considered as the frequent pattern"
   ]
  },
  {
   "cell_type": "markdown",
   "id": "05b86461",
   "metadata": {},
   "source": [
    "Looking for the confidence scores of the items"
   ]
  },
  {
   "cell_type": "code",
   "execution_count": 44,
   "id": "680cb145",
   "metadata": {},
   "outputs": [
    {
     "name": "stderr",
     "output_type": "stream",
     "text": [
      "C:\\Users\\DELL\\anaconda3\\lib\\site-packages\\ipykernel\\ipkernel.py:287: DeprecationWarning: `should_run_async` will not call `transform_cell` automatically in the future. Please pass the result to `transformed_cell` argument and any exception that happen during thetransform in `preprocessing_exc_tuple` in IPython 7.17 and above.\n",
      "  and should_run_async(code)\n"
     ]
    }
   ],
   "source": [
    "def confidence_on_items(x, y, min_conf=0):\n",
    "    x1 = [t for t in transactions if x in t]\n",
    "    y1 = [t for t in transactions if y in t]\n",
    "    x_U_y = [common for common in x1 if y in common]\n",
    "    conf_x_y = round(len(x_U_y)/len(x1)*100,2)\n",
    "    conf_y_x = round(len(x_U_y)/len(y1)*100,2)\n",
    "    if conf_x_y >= min_conf:\n",
    "        print(f\"Confidence of {x} on {y} is {conf_x_y}\")\n",
    "    if conf_y_x >= min_conf:\n",
    "        print(f\"Confidence of {y} on {x} is {conf_y_x}\")"
   ]
  },
  {
   "cell_type": "markdown",
   "id": "09bc2ace",
   "metadata": {},
   "source": [
    "* This function takes two arguments as *two items* and one optional argument as *minimum confidence*\n",
    "* It calculates and prints the confidence scores of these *two items* relative to each other\n",
    "* If the *minimum confidence* score is specified, then the confidence scores higher than this threshold is printed, otherwise all of the scores will be printed"
   ]
  },
  {
   "cell_type": "markdown",
   "id": "fb43aeb0",
   "metadata": {},
   "source": [
    "Confidence of \"x\" on \"y\" means, The conditional probability that a transaction containing \"x\" also contains \"y\""
   ]
  },
  {
   "cell_type": "code",
   "execution_count": 45,
   "id": "0ba2471f",
   "metadata": {},
   "outputs": [
    {
     "name": "stdout",
     "output_type": "stream",
     "text": [
      "Confidence of Bread on Coffee is 44.79\n",
      "Confidence of Coffee on Bread is 25.56\n"
     ]
    },
    {
     "name": "stderr",
     "output_type": "stream",
     "text": [
      "C:\\Users\\DELL\\anaconda3\\lib\\site-packages\\ipykernel\\ipkernel.py:287: DeprecationWarning: `should_run_async` will not call `transform_cell` automatically in the future. Please pass the result to `transformed_cell` argument and any exception that happen during thetransform in `preprocessing_exc_tuple` in IPython 7.17 and above.\n",
      "  and should_run_async(code)\n"
     ]
    }
   ],
   "source": [
    "confidence_on_items(\"Bread\", \"Coffee\")"
   ]
  },
  {
   "cell_type": "markdown",
   "id": "62af6ca7",
   "metadata": {},
   "source": [
    "* This means that, the percentage of customers who bought *bread* are also bought *coffee* is **44.79%**\n",
    "* Samely the percentage of customers who bought *coffee* are also bought *bread* is **25.56%**"
   ]
  },
  {
   "cell_type": "code",
   "execution_count": 46,
   "id": "bcfd7559",
   "metadata": {},
   "outputs": [
    {
     "name": "stdout",
     "output_type": "stream",
     "text": [
      "Confidence of Bread on Coffee is 44.79\n"
     ]
    },
    {
     "name": "stderr",
     "output_type": "stream",
     "text": [
      "C:\\Users\\DELL\\anaconda3\\lib\\site-packages\\ipykernel\\ipkernel.py:287: DeprecationWarning: `should_run_async` will not call `transform_cell` automatically in the future. Please pass the result to `transformed_cell` argument and any exception that happen during thetransform in `preprocessing_exc_tuple` in IPython 7.17 and above.\n",
      "  and should_run_async(code)\n"
     ]
    }
   ],
   "source": [
    "confidence_on_items(\"Bread\", \"Coffee\", 40)"
   ]
  },
  {
   "cell_type": "markdown",
   "id": "7daa4669",
   "metadata": {},
   "source": [
    "* If we set the threshold for the minimum confidence, then some scores are not shown"
   ]
  },
  {
   "cell_type": "markdown",
   "id": "1a6c6ccb",
   "metadata": {},
   "source": [
    "Calculating the confidence scores on sets"
   ]
  },
  {
   "cell_type": "code",
   "execution_count": 47,
   "id": "6bc00066",
   "metadata": {},
   "outputs": [
    {
     "name": "stderr",
     "output_type": "stream",
     "text": [
      "C:\\Users\\DELL\\anaconda3\\lib\\site-packages\\ipykernel\\ipkernel.py:287: DeprecationWarning: `should_run_async` will not call `transform_cell` automatically in the future. Please pass the result to `transformed_cell` argument and any exception that happen during thetransform in `preprocessing_exc_tuple` in IPython 7.17 and above.\n",
      "  and should_run_async(code)\n"
     ]
    }
   ],
   "source": [
    "def confidence_on_sets(x, y, min_conf=0):\n",
    "    if type(x) == str:\n",
    "        x1 = [t for t in transactions if x in t]\n",
    "    else:\n",
    "        x1 = [t for t in transactions if all(s in t for s in x)]\n",
    "    if type(y) == str:\n",
    "        y1 = [t for t in transactions if y in t]\n",
    "    else:\n",
    "        y1 = [t for t in transactions if all(s in t for s in y)]\n",
    "    \n",
    "    if type(x) == str and type(y) == list:\n",
    "        inp_list = y.copy()\n",
    "        y.append(x)\n",
    "        union = [t for t in transactions if all(s in t for s in y)]\n",
    "        conf_x_y = round(len(union)/len(x1)*100,2)\n",
    "        conf_y_x = round(len(union)/len(y1)*100,2)\n",
    "        if conf_x_y >= min_conf:\n",
    "            print(f\"Confidence of {x} on {inp_list} is {conf_x_y}\")\n",
    "        if conf_y_x >= min_conf:\n",
    "            print(f\"Confidence of {inp_list} on {x} is {conf_y_x}\")\n",
    "    elif type(x) == list and type(y) == str:\n",
    "        inp_list = x.copy()\n",
    "        x.append(y)\n",
    "        union = [t for t in transactions if all(s in t for s in x)]\n",
    "        conf_x_y = round(len(union)/len(x1)*100,2)\n",
    "        conf_y_x = round(len(union)/len(y1)*100,2)\n",
    "        if conf_x_y >= min_conf:\n",
    "            print(f\"Confidence of {x} on {inp_list} is {conf_x_y}\")\n",
    "        if conf_y_x >= min_conf:\n",
    "            print(f\"Confidence of {inp_list} on {x} is {conf_y_x}\")\n",
    "    elif type(x) == list and type(y) == list:\n",
    "        uni_list = x+y\n",
    "        union = [t for t in transactions if all(s in t for s in uni_list)]\n",
    "        conf_x_y = round(len(union)/len(x1)*100,2)\n",
    "        conf_y_x = round(len(union)/len(y1)*100,2)\n",
    "        if conf_x_y >= min_conf:\n",
    "            print(f\"Confidence of {x} on {y} is {conf_x_y}\")\n",
    "        if conf_y_x >= min_conf:\n",
    "            print(f\"Confidence of {y} on {x} is {conf_y_x}\")"
   ]
  },
  {
   "cell_type": "markdown",
   "id": "a92f58ba",
   "metadata": {},
   "source": [
    "* This long function takes two arguments as *two items or sets* and one optional argument as *minimum support*\n",
    "* It check the inputs if they are a list of items or only a single item\n",
    "* By looking their types, confidence score calculations is processed accordingly"
   ]
  },
  {
   "cell_type": "markdown",
   "id": "8f229b9b",
   "metadata": {},
   "source": [
    "Looking for the one example"
   ]
  },
  {
   "cell_type": "code",
   "execution_count": 48,
   "id": "fbebca4b",
   "metadata": {},
   "outputs": [
    {
     "name": "stdout",
     "output_type": "stream",
     "text": [
      "Confidence of Coffee on ['Pastry', 'Bread'] is 3.18\n",
      "Confidence of ['Pastry', 'Bread'] on Coffee is 38.41\n"
     ]
    },
    {
     "name": "stderr",
     "output_type": "stream",
     "text": [
      "C:\\Users\\DELL\\anaconda3\\lib\\site-packages\\ipykernel\\ipkernel.py:287: DeprecationWarning: `should_run_async` will not call `transform_cell` automatically in the future. Please pass the result to `transformed_cell` argument and any exception that happen during thetransform in `preprocessing_exc_tuple` in IPython 7.17 and above.\n",
      "  and should_run_async(code)\n"
     ]
    }
   ],
   "source": [
    "confidence_on_sets(\"Coffee\", [\"Pastry\", \"Bread\"])"
   ]
  },
  {
   "cell_type": "markdown",
   "id": "f393d854",
   "metadata": {},
   "source": [
    "* The precentage of customers who bought *coffee* are also bought *pastry and bread* is **3.18%**\n",
    "* The precentage of customers who bought *pastry and bread* are also bought *coffee* is **38.41%**"
   ]
  },
  {
   "cell_type": "code",
   "execution_count": 49,
   "id": "606e6ddf",
   "metadata": {},
   "outputs": [
    {
     "name": "stdout",
     "output_type": "stream",
     "text": [
      "Confidence of ['Pastry', 'Bread'] on Coffee is 38.41\n"
     ]
    },
    {
     "name": "stderr",
     "output_type": "stream",
     "text": [
      "C:\\Users\\DELL\\anaconda3\\lib\\site-packages\\ipykernel\\ipkernel.py:287: DeprecationWarning: `should_run_async` will not call `transform_cell` automatically in the future. Please pass the result to `transformed_cell` argument and any exception that happen during thetransform in `preprocessing_exc_tuple` in IPython 7.17 and above.\n",
      "  and should_run_async(code)\n"
     ]
    }
   ],
   "source": [
    "confidence_on_sets(\"Coffee\", [\"Pastry\", \"Bread\"], 25)"
   ]
  },
  {
   "cell_type": "markdown",
   "id": "a2d7725e",
   "metadata": {},
   "source": [
    "* Some results are filtered with *minimum confidence threshold*"
   ]
  },
  {
   "cell_type": "markdown",
   "id": "d3cf78d3",
   "metadata": {},
   "source": [
    "Looking for the two sets this time"
   ]
  },
  {
   "cell_type": "code",
   "execution_count": 50,
   "id": "5fca4516",
   "metadata": {},
   "outputs": [
    {
     "name": "stdout",
     "output_type": "stream",
     "text": [
      "Confidence of ['Pastry', 'Bread'] on ['Coffee', 'Cake'] is 2.17\n",
      "Confidence of ['Coffee', 'Cake'] on ['Pastry', 'Bread'] is 1.16\n"
     ]
    },
    {
     "name": "stderr",
     "output_type": "stream",
     "text": [
      "C:\\Users\\DELL\\anaconda3\\lib\\site-packages\\ipykernel\\ipkernel.py:287: DeprecationWarning: `should_run_async` will not call `transform_cell` automatically in the future. Please pass the result to `transformed_cell` argument and any exception that happen during thetransform in `preprocessing_exc_tuple` in IPython 7.17 and above.\n",
      "  and should_run_async(code)\n"
     ]
    }
   ],
   "source": [
    "confidence_on_sets([\"Pastry\", \"Bread\"], [\"Coffee\", \"Cake\"])"
   ]
  },
  {
   "cell_type": "markdown",
   "id": "e662af6e",
   "metadata": {},
   "source": [
    "* The precentage of customers who bought *pastry and bread* are also bought *coffee and cake* is **2.17%**\n",
    "* The precentage of customers who bought *coffee and cake* are also bought *pastry and bread* is **1.16%**"
   ]
  },
  {
   "cell_type": "code",
   "execution_count": 51,
   "id": "573edc84",
   "metadata": {},
   "outputs": [
    {
     "name": "stderr",
     "output_type": "stream",
     "text": [
      "C:\\Users\\DELL\\anaconda3\\lib\\site-packages\\ipykernel\\ipkernel.py:287: DeprecationWarning: `should_run_async` will not call `transform_cell` automatically in the future. Please pass the result to `transformed_cell` argument and any exception that happen during thetransform in `preprocessing_exc_tuple` in IPython 7.17 and above.\n",
      "  and should_run_async(code)\n"
     ]
    },
    {
     "name": "stdout",
     "output_type": "stream",
     "text": [
      "Confidence of ['Pastry', 'Bread'] on ['Coffee', 'Cake'] is 2.17\n"
     ]
    }
   ],
   "source": [
    "confidence_on_sets([\"Pastry\", \"Bread\"], [\"Coffee\", \"Cake\"], 2)"
   ]
  },
  {
   "cell_type": "markdown",
   "id": "97438da6",
   "metadata": {},
   "source": [
    "* Some results are filtered with minimum confidence threshold"
   ]
  },
  {
   "cell_type": "markdown",
   "id": "aac74e74",
   "metadata": {},
   "source": [
    "To calculate these scores automatically, *item_combinations* function is defined"
   ]
  },
  {
   "cell_type": "code",
   "execution_count": 52,
   "id": "940d197c",
   "metadata": {},
   "outputs": [
    {
     "name": "stderr",
     "output_type": "stream",
     "text": [
      "C:\\Users\\DELL\\anaconda3\\lib\\site-packages\\ipykernel\\ipkernel.py:287: DeprecationWarning: `should_run_async` will not call `transform_cell` automatically in the future. Please pass the result to `transformed_cell` argument and any exception that happen during thetransform in `preprocessing_exc_tuple` in IPython 7.17 and above.\n",
      "  and should_run_async(code)\n"
     ]
    }
   ],
   "source": [
    "def item_combinations(items):\n",
    "    lst = []\n",
    "    if len(items) == 3:\n",
    "        for i in range(len(items)):\n",
    "            lst.append([items[i], [items[i-1], items[i-2]]])\n",
    "    elif len(items) == 4:\n",
    "        for i in range(len(items)):\n",
    "            lst.append([items[i], [items[i-1], items[i-2], items[i-3]]])\n",
    "    return lst"
   ]
  },
  {
   "cell_type": "markdown",
   "id": "ce72fd25",
   "metadata": {},
   "source": [
    "* This function takes an argument as itemsets with 1 item and 2 items or 2 itemsets length of 2\n",
    "* It combines these items by leave one of them out and the others are merged"
   ]
  },
  {
   "cell_type": "markdown",
   "id": "34115d2f",
   "metadata": {},
   "source": [
    "For example, let's look at one of the itemsets with length of 3"
   ]
  },
  {
   "cell_type": "code",
   "execution_count": 53,
   "id": "e71b03d7",
   "metadata": {
    "scrolled": true
   },
   "outputs": [
    {
     "name": "stderr",
     "output_type": "stream",
     "text": [
      "C:\\Users\\DELL\\anaconda3\\lib\\site-packages\\ipykernel\\ipkernel.py:287: DeprecationWarning: `should_run_async` will not call `transform_cell` automatically in the future. Please pass the result to `transformed_cell` argument and any exception that happen during thetransform in `preprocessing_exc_tuple` in IPython 7.17 and above.\n",
      "  and should_run_async(code)\n"
     ]
    },
    {
     "data": {
      "text/plain": [
       "['Pastry', 'Bread', 'Coffee']"
      ]
     },
     "execution_count": 53,
     "metadata": {},
     "output_type": "execute_result"
    }
   ],
   "source": [
    "list(freq_len_3[\"itemsets\"][0])"
   ]
  },
  {
   "cell_type": "markdown",
   "id": "6e05445a",
   "metadata": {},
   "source": [
    "Execution of *item_combinations* function and result"
   ]
  },
  {
   "cell_type": "code",
   "execution_count": 54,
   "id": "54d89ee0",
   "metadata": {
    "scrolled": true
   },
   "outputs": [
    {
     "name": "stderr",
     "output_type": "stream",
     "text": [
      "C:\\Users\\DELL\\anaconda3\\lib\\site-packages\\ipykernel\\ipkernel.py:287: DeprecationWarning: `should_run_async` will not call `transform_cell` automatically in the future. Please pass the result to `transformed_cell` argument and any exception that happen during thetransform in `preprocessing_exc_tuple` in IPython 7.17 and above.\n",
      "  and should_run_async(code)\n"
     ]
    },
    {
     "data": {
      "text/plain": [
       "[['Pastry', ['Coffee', 'Bread']],\n",
       " ['Bread', ['Pastry', 'Coffee']],\n",
       " ['Coffee', ['Bread', 'Pastry']]]"
      ]
     },
     "execution_count": 54,
     "metadata": {},
     "output_type": "execute_result"
    }
   ],
   "source": [
    "combs = item_combinations(list(freq_len_3[\"itemsets\"][0]))\n",
    "combs"
   ]
  },
  {
   "cell_type": "markdown",
   "id": "0d9d3ff5",
   "metadata": {},
   "source": [
    "* To examine the confidence scores for each item in the itemset to the remaining ones, this output is given by this function"
   ]
  },
  {
   "cell_type": "markdown",
   "id": "788468bc",
   "metadata": {},
   "source": [
    "Testing for each itemsets with length of 3"
   ]
  },
  {
   "cell_type": "code",
   "execution_count": 55,
   "id": "4f9c264b",
   "metadata": {},
   "outputs": [
    {
     "name": "stdout",
     "output_type": "stream",
     "text": [
      "Confidence of ['Bread', 'Pastry'] on Coffee is 38.41\n",
      "Confidence of ['Tea', 'Cake'] on Coffee is 42.22\n",
      "Confidence of ['Bread', 'Cake'] on Coffee is 42.99\n",
      "Confidence of ['Bread', 'Tea'] on Coffee is 26.32\n",
      "Confidence of ['Bread', 'Sandwich'] on Coffee is 42.24\n"
     ]
    },
    {
     "name": "stderr",
     "output_type": "stream",
     "text": [
      "C:\\Users\\DELL\\anaconda3\\lib\\site-packages\\ipykernel\\ipkernel.py:287: DeprecationWarning: `should_run_async` will not call `transform_cell` automatically in the future. Please pass the result to `transformed_cell` argument and any exception that happen during thetransform in `preprocessing_exc_tuple` in IPython 7.17 and above.\n",
      "  and should_run_async(code)\n"
     ]
    }
   ],
   "source": [
    "for i in range(len(freq_len_3.head()[\"itemsets\"])):\n",
    "    combs = item_combinations(list(freq_len_3.head()[\"itemsets\"][i]))\n",
    "    for j in range(len(combs)):\n",
    "        confidence_on_sets(combs[j][0], combs[j][1], 25)"
   ]
  },
  {
   "cell_type": "markdown",
   "id": "982afcde",
   "metadata": {},
   "source": [
    "* This nested for loops calculates the confidence scores for each combinations of each itemsets with length of 3\n",
    "* Threshold is 25 so it prints the confidence scores higher than 25"
   ]
  },
  {
   "cell_type": "markdown",
   "id": "6031bc02",
   "metadata": {},
   "source": [
    "Testing for each itemsets with length of 4"
   ]
  },
  {
   "cell_type": "code",
   "execution_count": 56,
   "id": "c06d85d8",
   "metadata": {},
   "outputs": [
    {
     "name": "stderr",
     "output_type": "stream",
     "text": [
      "C:\\Users\\DELL\\anaconda3\\lib\\site-packages\\ipykernel\\ipkernel.py:287: DeprecationWarning: `should_run_async` will not call `transform_cell` automatically in the future. Please pass the result to `transformed_cell` argument and any exception that happen during thetransform in `preprocessing_exc_tuple` in IPython 7.17 and above.\n",
      "  and should_run_async(code)\n"
     ]
    },
    {
     "name": "stdout",
     "output_type": "stream",
     "text": [
      "Confidence of ['Bread', 'Tea', 'Cake'] on Coffee is 28.26\n",
      "Confidence of ['Bread', 'Medialuna', 'Pastry'] on Coffee is 47.83\n",
      "Confidence of ['Sandwich', 'Tea', 'Cake'] on Coffee is 71.43\n",
      "Confidence of ['Pastry', 'Coffee', 'Hot chocolate'] on Bread is 27.78\n",
      "Confidence of ['Hot chocolate', 'Bread', 'Pastry'] on Coffee is 66.67\n",
      "Confidence of ['Hot chocolate', 'Bread', 'Cake'] on Coffee is 52.94\n"
     ]
    }
   ],
   "source": [
    "for i in range(len(freq_len_4.head()[\"itemsets\"])):\n",
    "    combs = item_combinations(list(freq_len_4.head()[\"itemsets\"][i]))\n",
    "    for j in range(len(combs)):\n",
    "        confidence_on_sets(combs[j][0], combs[j][1], 25)"
   ]
  },
  {
   "cell_type": "markdown",
   "id": "16f6b5d6",
   "metadata": {},
   "source": [
    "* This nested for loops calculates the confidence scores for each combinations of each itemsets with length of 4\n",
    "* Threshold is 25 so it prints the confidence scores higher than 25"
   ]
  }
 ],
 "metadata": {
  "kernelspec": {
   "display_name": "Python 3.8.8 64-bit ('base': conda)",
   "language": "python",
   "name": "python388jvsc74a57bd0cd8ac7ed5329ff1f59a8356dfddf06d159cf18414acbfd7b13d1d5cd1cbb5d7d"
  },
  "language_info": {
   "codemirror_mode": {
    "name": "ipython",
    "version": 3
   },
   "file_extension": ".py",
   "mimetype": "text/x-python",
   "name": "python",
   "nbconvert_exporter": "python",
   "pygments_lexer": "ipython3",
   "version": "3.8.8"
  }
 },
 "nbformat": 4,
 "nbformat_minor": 5
}
